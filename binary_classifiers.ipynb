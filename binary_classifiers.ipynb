{
 "metadata": {
  "language_info": {
   "codemirror_mode": {
    "name": "ipython",
    "version": 3
   },
   "file_extension": ".py",
   "mimetype": "text/x-python",
   "name": "python",
   "nbconvert_exporter": "python",
   "pygments_lexer": "ipython3",
   "version": "3.8.3-final"
  },
  "orig_nbformat": 2,
  "kernelspec": {
   "name": "python_defaultSpec_1600117120236",
   "display_name": "Python 3.8.3 64-bit ('base': conda)"
  }
 },
 "nbformat": 4,
 "nbformat_minor": 2,
 "cells": [
  {
   "cell_type": "code",
   "execution_count": 1,
   "metadata": {},
   "outputs": [],
   "source": [
    "import os\n",
    "import pandas as pd \n",
    "import pickle\n",
    "from sklearn.ensemble import RandomForestClassifier\n",
    "from sklearn.preprocessing import LabelEncoder\n",
    "from sklearn.model_selection import train_test_split\n",
    "from sklearn.model_selection import GridSearchCV, RandomizedSearchCV\n",
    "from sklearn.metrics         import accuracy_score\n",
    "\n"
   ]
  },
  {
   "cell_type": "code",
   "execution_count": 2,
   "metadata": {},
   "outputs": [],
   "source": [
    "### Curación de datos"
   ]
  },
  {
   "cell_type": "code",
   "execution_count": 3,
   "metadata": {},
   "outputs": [],
   "source": [
    "df = pd.read_csv('df_comm_genres.csv')\n",
    "df = df.drop(columns=[\"Unnamed: 0\", 'liveness', 'id', \"uri\", \"num_artists\", \"track_name\", \"artist_name\", 'genero'])\n",
    "\n",
    "df.most_common_genre = df.most_common_genre.astype('str')\n",
    "generos = df.most_common_genre.values\n",
    "\n"
   ]
  },
  {
   "cell_type": "code",
   "execution_count": 4,
   "metadata": {},
   "outputs": [
    {
     "output_type": "execute_result",
     "data": {
      "text/plain": "      danceability  energy  key  loudness  mode  speechiness  acousticness  \\\n0            0.161   0.482    1   -11.210     0       0.0472        0.4860   \n1            0.230   0.434   10   -12.402     0       0.0551        0.5700   \n2            0.289   0.280    9   -15.335     1       0.0433        0.8740   \n3            0.499   0.648    7    -5.812     1       0.0331        0.7230   \n4            0.528   0.383    2   -11.170     1       0.0258        0.3760   \n...            ...     ...  ...       ...   ...          ...           ...   \n1750         0.690   0.519    4    -7.241     1       0.0246        0.3140   \n1751         0.616   0.395    2    -6.017     1       0.0301        0.2890   \n1752         0.432   0.456    4    -7.259     1       0.0290        0.1320   \n1753         0.557   0.656    7    -6.915     1       0.0295        0.0953   \n1754         0.507   0.605    0    -6.919     1       0.0350        0.0379   \n\n      instrumentalness  valence    tempo  duration_ms  time_signature  \\\n0             0.409000   0.0926  161.092       233079               5   \n1             0.000000   0.0834   80.793       216905               5   \n2             0.004430   0.0391  124.835       215773               3   \n3             0.000000   0.4640   88.140       219107               4   \n4             0.000000   0.4600   89.089       328320               4   \n...                ...      ...      ...          ...             ...   \n1750          0.000021   0.5230   90.978       230053               4   \n1751          0.000006   0.3980  120.758       230867               3   \n1752          0.000205   0.2310   98.843       208579               3   \n1753          0.000043   0.2590  134.982       204675               4   \n1754          0.004070   0.3630  149.948       235964               4   \n\n               genero  encoded_genres  \n0           dance pop              17  \n1           dance pop              17  \n2           dance pop              17  \n3               latin              24  \n4               latin              24  \n...               ...             ...  \n1750  argentine indie               2  \n1751  argentine indie               2  \n1752  argentine indie               2  \n1753  argentine indie               2  \n1754  argentine indie               2  \n\n[1755 rows x 14 columns]",
      "text/html": "<div>\n<style scoped>\n    .dataframe tbody tr th:only-of-type {\n        vertical-align: middle;\n    }\n\n    .dataframe tbody tr th {\n        vertical-align: top;\n    }\n\n    .dataframe thead th {\n        text-align: right;\n    }\n</style>\n<table border=\"1\" class=\"dataframe\">\n  <thead>\n    <tr style=\"text-align: right;\">\n      <th></th>\n      <th>danceability</th>\n      <th>energy</th>\n      <th>key</th>\n      <th>loudness</th>\n      <th>mode</th>\n      <th>speechiness</th>\n      <th>acousticness</th>\n      <th>instrumentalness</th>\n      <th>valence</th>\n      <th>tempo</th>\n      <th>duration_ms</th>\n      <th>time_signature</th>\n      <th>genero</th>\n      <th>encoded_genres</th>\n    </tr>\n  </thead>\n  <tbody>\n    <tr>\n      <th>0</th>\n      <td>0.161</td>\n      <td>0.482</td>\n      <td>1</td>\n      <td>-11.210</td>\n      <td>0</td>\n      <td>0.0472</td>\n      <td>0.4860</td>\n      <td>0.409000</td>\n      <td>0.0926</td>\n      <td>161.092</td>\n      <td>233079</td>\n      <td>5</td>\n      <td>dance pop</td>\n      <td>17</td>\n    </tr>\n    <tr>\n      <th>1</th>\n      <td>0.230</td>\n      <td>0.434</td>\n      <td>10</td>\n      <td>-12.402</td>\n      <td>0</td>\n      <td>0.0551</td>\n      <td>0.5700</td>\n      <td>0.000000</td>\n      <td>0.0834</td>\n      <td>80.793</td>\n      <td>216905</td>\n      <td>5</td>\n      <td>dance pop</td>\n      <td>17</td>\n    </tr>\n    <tr>\n      <th>2</th>\n      <td>0.289</td>\n      <td>0.280</td>\n      <td>9</td>\n      <td>-15.335</td>\n      <td>1</td>\n      <td>0.0433</td>\n      <td>0.8740</td>\n      <td>0.004430</td>\n      <td>0.0391</td>\n      <td>124.835</td>\n      <td>215773</td>\n      <td>3</td>\n      <td>dance pop</td>\n      <td>17</td>\n    </tr>\n    <tr>\n      <th>3</th>\n      <td>0.499</td>\n      <td>0.648</td>\n      <td>7</td>\n      <td>-5.812</td>\n      <td>1</td>\n      <td>0.0331</td>\n      <td>0.7230</td>\n      <td>0.000000</td>\n      <td>0.4640</td>\n      <td>88.140</td>\n      <td>219107</td>\n      <td>4</td>\n      <td>latin</td>\n      <td>24</td>\n    </tr>\n    <tr>\n      <th>4</th>\n      <td>0.528</td>\n      <td>0.383</td>\n      <td>2</td>\n      <td>-11.170</td>\n      <td>1</td>\n      <td>0.0258</td>\n      <td>0.3760</td>\n      <td>0.000000</td>\n      <td>0.4600</td>\n      <td>89.089</td>\n      <td>328320</td>\n      <td>4</td>\n      <td>latin</td>\n      <td>24</td>\n    </tr>\n    <tr>\n      <th>...</th>\n      <td>...</td>\n      <td>...</td>\n      <td>...</td>\n      <td>...</td>\n      <td>...</td>\n      <td>...</td>\n      <td>...</td>\n      <td>...</td>\n      <td>...</td>\n      <td>...</td>\n      <td>...</td>\n      <td>...</td>\n      <td>...</td>\n      <td>...</td>\n    </tr>\n    <tr>\n      <th>1750</th>\n      <td>0.690</td>\n      <td>0.519</td>\n      <td>4</td>\n      <td>-7.241</td>\n      <td>1</td>\n      <td>0.0246</td>\n      <td>0.3140</td>\n      <td>0.000021</td>\n      <td>0.5230</td>\n      <td>90.978</td>\n      <td>230053</td>\n      <td>4</td>\n      <td>argentine indie</td>\n      <td>2</td>\n    </tr>\n    <tr>\n      <th>1751</th>\n      <td>0.616</td>\n      <td>0.395</td>\n      <td>2</td>\n      <td>-6.017</td>\n      <td>1</td>\n      <td>0.0301</td>\n      <td>0.2890</td>\n      <td>0.000006</td>\n      <td>0.3980</td>\n      <td>120.758</td>\n      <td>230867</td>\n      <td>3</td>\n      <td>argentine indie</td>\n      <td>2</td>\n    </tr>\n    <tr>\n      <th>1752</th>\n      <td>0.432</td>\n      <td>0.456</td>\n      <td>4</td>\n      <td>-7.259</td>\n      <td>1</td>\n      <td>0.0290</td>\n      <td>0.1320</td>\n      <td>0.000205</td>\n      <td>0.2310</td>\n      <td>98.843</td>\n      <td>208579</td>\n      <td>3</td>\n      <td>argentine indie</td>\n      <td>2</td>\n    </tr>\n    <tr>\n      <th>1753</th>\n      <td>0.557</td>\n      <td>0.656</td>\n      <td>7</td>\n      <td>-6.915</td>\n      <td>1</td>\n      <td>0.0295</td>\n      <td>0.0953</td>\n      <td>0.000043</td>\n      <td>0.2590</td>\n      <td>134.982</td>\n      <td>204675</td>\n      <td>4</td>\n      <td>argentine indie</td>\n      <td>2</td>\n    </tr>\n    <tr>\n      <th>1754</th>\n      <td>0.507</td>\n      <td>0.605</td>\n      <td>0</td>\n      <td>-6.919</td>\n      <td>1</td>\n      <td>0.0350</td>\n      <td>0.0379</td>\n      <td>0.004070</td>\n      <td>0.3630</td>\n      <td>149.948</td>\n      <td>235964</td>\n      <td>4</td>\n      <td>argentine indie</td>\n      <td>2</td>\n    </tr>\n  </tbody>\n</table>\n<p>1755 rows × 14 columns</p>\n</div>"
     },
     "metadata": {},
     "execution_count": 4
    }
   ],
   "source": [
    "### Encoding del género (most common)\n",
    "le = LabelEncoder()\n",
    "generos_encoded = le.fit_transform(generos)\n",
    "\n",
    "data_final = df.copy()\n",
    "data_final['encoded_genres'] = generos_encoded\n",
    "\n",
    "data_final.rename(columns={'most_common_genre':'genero'}, inplace=True)\n",
    "data_final\n"
   ]
  },
  {
   "cell_type": "code",
   "execution_count": 5,
   "metadata": {},
   "outputs": [],
   "source": [
    "### Creación del dataset binario para cada género\n",
    "path = 'data/'\n",
    "generos_de_interes = ['argentine rock', 'latin', 'cuarteto', 'cumbia villera', 'argentine indie']\n",
    "data_final.drop(columns={'encoded_genres'}, inplace=True)\n",
    "\n",
    "if not os.path.isdir(f'{path}'):\n",
    "    os.mkdir(f'{path}')\n",
    "\n",
    "for genero in generos_de_interes:\n",
    "    if not os.path.isdir(f'{path}{genero}'):\n",
    "        os.mkdir(f'{path}{genero}')\n",
    "    \n",
    "    df_pos = data_final[data_final['genero']==genero]\n",
    "    df_pos.genero = 1\n",
    "    count = df_pos.shape[0]\n",
    "    df_neg = data_final[data_final['genero']!=genero].sample(count)\n",
    "    df_neg.genero = 0\n",
    "    \n",
    "    df_final_genre = pd.concat([df_pos, df_neg])\n",
    "    \n",
    "    df_train, df_test = train_test_split(df_final_genre, test_size=0.3, random_state=42)\n",
    "    \n",
    "    df_train.to_csv(f'{path}{genero}/{genero}_train.csv')\n",
    "    df_test.to_csv(f'{path}{genero}/{genero}_test.csv')                 "
   ]
  },
  {
   "cell_type": "code",
   "execution_count": 8,
   "metadata": {
    "tags": []
   },
   "outputs": [
    {
     "output_type": "stream",
     "name": "stdout",
     "text": "Training argentine rock model\nTraining latin model\nTraining cuarteto model\nTraining cumbia villera model\nTraining argentine indie model\n"
    }
   ],
   "source": [
    "dict_tree_grid = {'criterion'         : ['gini', 'entropy'],\n",
    "                  'max_features'      : [None, 'auto'],\n",
    "                  'min_samples_split' : [25, 50, 75, 100, 150, 200, 300, 500],\n",
    "                  'ccp_alpha'         : [0, 0.5, 1]\n",
    "                  }\n",
    "\n",
    "##TRAINING\n",
    "\n",
    "for genero in generos_de_interes:\n",
    "    df_train = pd.read_csv(f'{path}{genero}/{genero}_train.csv')\n",
    "    columns = df_train.columns.to_list()\n",
    "    columns.remove('genero')\n",
    "    \n",
    "    X = df_train[columns]\n",
    "    y = df_train['genero']\n",
    "    print(f\"Training {genero} model\")\n",
    "    \n",
    "    model =      RandomForestClassifier(random_state=42)\n",
    "    clf =        GridSearchCV(model, dict_tree_grid, scoring='accuracy', cv=3, n_jobs=-1)\n",
    "    search =     clf.fit(X, y)\n",
    "    best_tree =  search.best_estimator_\n",
    "\n",
    "    with open(f'{path}{genero}/{genero}_model', 'wb') as f:\n",
    "        pickle.dump(best_tree, f)"
   ]
  },
  {
   "cell_type": "code",
   "execution_count": 9,
   "metadata": {
    "tags": []
   },
   "outputs": [
    {
     "output_type": "stream",
     "name": "stdout",
     "text": "\n---------Testing argentine rock model---------\nargentine rock model accuracy: 0.8708010335917312\n\n---------Testing latin model---------\nlatin model accuracy: 0.8930817610062893\n\n---------Testing cuarteto model---------\ncuarteto model accuracy: 0.9571428571428572\n\n---------Testing cumbia villera model---------\ncumbia villera model accuracy: 0.8091603053435115\n\n---------Testing argentine indie model---------\nargentine indie model accuracy: 0.8543689320388349\nTotal accuracy: 0.8769109778246447\n"
    }
   ],
   "source": [
    "### Testing...  el accuracy se calcula como promedio del accuracy de cada clasificador individual\n",
    "count = len(generos_de_interes)\n",
    "acc = 0\n",
    "acc_total = 0\n",
    "files = ['argentine rock', 'latin', 'cuarteto', 'cumbia villera', 'argentine indie']\n",
    "for genero in generos_de_interes:\n",
    "    tran = le.transform([genero])[0]\n",
    "\n",
    "    df_test = pd.read_csv(f'{path}{genero}/{genero}_test.csv')\n",
    "    columns = df_train.columns.to_list()\n",
    "    columns.remove('genero')\n",
    "    model = pickle.load(open(f'{path}{genero}/{genero}_model', 'rb'))\n",
    "    X = df_test[columns]\n",
    "    y = df_test['genero']\n",
    "    print(f\"\\n---------Testing {genero} model---------\")\n",
    "    y_pred = model.predict(X)\n",
    "    acc += accuracy_score(y, y_pred)\n",
    "    print(f'{genero} model accuracy: {str(accuracy_score(y, y_pred))}')\n",
    "acc_total = acc/count\n",
    "print(f'Total accuracy: {acc_total}')"
   ]
  },
  {
   "cell_type": "code",
   "execution_count": null,
   "metadata": {},
   "outputs": [],
   "source": []
  }
 ]
}